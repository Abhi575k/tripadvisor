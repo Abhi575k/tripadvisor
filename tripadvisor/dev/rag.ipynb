{
 "cells": [
  {
   "cell_type": "code",
   "execution_count": 103,
   "metadata": {},
   "outputs": [],
   "source": [
    "# recommendations/services.py\n",
    "from sentence_transformers import SentenceTransformer\n",
    "from qdrant_client import QdrantClient\n",
    "from qdrant_client.http.models import PointStruct, VectorParams"
   ]
  },
  {
   "cell_type": "code",
   "execution_count": 104,
   "metadata": {},
   "outputs": [
    {
     "name": "stderr",
     "output_type": "stream",
     "text": [
      "/home/abhinav/Django/tripadvisor/venv/lib/python3.11/site-packages/huggingface_hub/file_download.py:1132: FutureWarning: `resume_download` is deprecated and will be removed in version 1.0.0. Downloads always resume when possible. If you want to force a new download, use `force_download=True`.\n",
      "  warnings.warn(\n"
     ]
    }
   ],
   "source": [
    "# Initialize Qdrant client\n",
    "qdrant_client = QdrantClient(host='localhost', port=6333)\n",
    "\n",
    "# Load a pre-trained model from Sentence Transformers\n",
    "transformer_model = SentenceTransformer('all-MiniLM-L6-v2')"
   ]
  },
  {
   "cell_type": "code",
   "execution_count": 105,
   "metadata": {},
   "outputs": [],
   "source": [
    "# Function to get embeddings using the Sentence Transformer model\n",
    "def get_embeddings(text):\n",
    "    return transformer_model.encode(text).tolist()\n",
    "\n",
    "# Index documents in Qdrant\n",
    "def index_documents(documents):\n",
    "    points = []\n",
    "    for doc in documents:\n",
    "        embedding = get_embeddings(doc[\"text\"])\n",
    "        point = PointStruct(id=doc[\"id\"], vector=embedding, payload={\"text\": doc[\"text\"], \"metadata\": doc[\"metadata\"]})\n",
    "        points.append(point)\n",
    "    \n",
    "    # if collection does not exist, create it\n",
    "    if not qdrant_client.collection_exists(collection_name=\"recommendations\"):\n",
    "        qdrant_client.create_collection(\n",
    "            collection_name=\"recommendations\",\n",
    "            vectors_config=VectorParams(\n",
    "                size=len(points[0].vector),\n",
    "                distance='Cosine'\n",
    "            )\n",
    "        )\n",
    "    \n",
    "    qdrant_client.upsert(collection_name=\"recommendations\", points=points)\n",
    "    print(\"Documents indexed successfully\")"
   ]
  },
  {
   "cell_type": "code",
   "execution_count": 96,
   "metadata": {},
   "outputs": [],
   "source": [
    "# Retrieval of similar documents\n",
    "def get_similar_documents(query, k=5):\n",
    "    embed_query = get_embeddings(query)\n",
    "    response = qdrant_client.search(\n",
    "        collection_name=\"recommendations\",\n",
    "        query_vector=embed_query,\n",
    "        limit=k\n",
    "        )\n",
    "    results = []\n",
    "    for res in response:\n",
    "        results.append({\n",
    "            \"id\": res.id,\n",
    "            \"text\": res.payload[\"text\"],\n",
    "            \"metadata\": res.payload[\"metadata\"]\n",
    "        })\n",
    "    return results"
   ]
  },
  {
   "cell_type": "code",
   "execution_count": 124,
   "metadata": {},
   "outputs": [],
   "source": [
    "# Create prompt with context\n",
    "def create_prompt(query):\n",
    "    context = create_context(query)\n",
    "    return f\"Here is the information we already have:\\n{context}\\nAnswer the following question: {query}\\n\"\n",
    "\n",
    "# Create Context\n",
    "def create_context(query):\n",
    "    text = get_similar_documents(query, k=5)\n",
    "    context = \"\"\n",
    "    for i in range(len(text)):\n",
    "        context += f\"{i+1}. {text[i]['text']}\\n\"\n",
    "    return context"
   ]
  },
  {
   "cell_type": "code",
   "execution_count": 71,
   "metadata": {},
   "outputs": [],
   "source": [
    "# Example documents\n",
    "documents = [\n",
    "    {\"id\": 1, \"text\": \"Paris is the capital of France and a major European city.\", \"metadata\": {\"city\": \"Paris\"}},\n",
    "    {\"id\": 2, \"text\": \"Berlin, the capital of Germany, is known for its art and nightlife.\", \"metadata\": {\"city\": \"Berlin\"}},\n",
    "    {\"id\": 3, \"text\": \"Tokyo is the capital of Japan and a mix of modern and traditional.\", \"metadata\": {\"city\": \"Tokyo\"}},\n",
    "]"
   ]
  },
  {
   "cell_type": "code",
   "execution_count": 72,
   "metadata": {},
   "outputs": [
    {
     "name": "stdout",
     "output_type": "stream",
     "text": [
      "Documents indexed successfully\n"
     ]
    }
   ],
   "source": [
    "index_documents(documents)"
   ]
  },
  {
   "cell_type": "code",
   "execution_count": 98,
   "metadata": {},
   "outputs": [
    {
     "name": "stdout",
     "output_type": "stream",
     "text": [
      "[{'id': 1, 'text': 'Paris is the capital of France and a major European city.', 'metadata': {'city': 'Paris'}}, {'id': 2, 'text': 'Berlin, the capital of Germany, is known for its art and nightlife.', 'metadata': {'city': 'Berlin'}}, {'id': 3, 'text': 'Tokyo is the capital of Japan and a mix of modern and traditional.', 'metadata': {'city': 'Tokyo'}}]\n"
     ]
    }
   ],
   "source": [
    "print(get_similar_documents(\"What is the capital of France?\"))"
   ]
  },
  {
   "cell_type": "code",
   "execution_count": 99,
   "metadata": {},
   "outputs": [
    {
     "name": "stdout",
     "output_type": "stream",
     "text": [
      "Context:\n",
      "1. Paris is the capital of France and a major European city.\n",
      "2. Berlin, the capital of Germany, is known for its art and nightlife.\n",
      "3. Tokyo is the capital of Japan and a mix of modern and traditional.\n",
      "\n",
      "Query: What is the capital of France?\n",
      "\n"
     ]
    }
   ],
   "source": [
    "print(create_prompt(query=\"What is the capital of France?\"))"
   ]
  },
  {
   "cell_type": "code",
   "execution_count": 1,
   "metadata": {},
   "outputs": [
    {
     "name": "stderr",
     "output_type": "stream",
     "text": [
      "/home/abhinav/Django/tripadvisor/venv/lib/python3.11/site-packages/tqdm/auto.py:21: TqdmWarning: IProgress not found. Please update jupyter and ipywidgets. See https://ipywidgets.readthedocs.io/en/stable/user_install.html\n",
      "  from .autonotebook import tqdm as notebook_tqdm\n"
     ]
    }
   ],
   "source": [
    "# Generation of recommendations\n",
    "from transformers import AutoModelForCausalLM, AutoTokenizer\n",
    "\n",
    "# Load the model and tokenizer\n",
    "model = AutoModelForCausalLM.from_pretrained(\"gpt2\")\n",
    "tokenizer = AutoTokenizer.from_pretrained(\"gpt2\")"
   ]
  },
  {
   "cell_type": "code",
   "execution_count": 120,
   "metadata": {},
   "outputs": [],
   "source": [
    "# Function to generate recommendations -- TEMPORARY\n",
    "def generate_recommendations(prompt):\n",
    "    input_ids = tokenizer.encode(prompt, return_tensors=\"pt\", max_length=512, truncation=True)\n",
    "    attention_mask = input_ids.ne(1).long()\n",
    "\n",
    "    # Generate text\n",
    "    output = model.generate(\n",
    "        input_ids, \n",
    "        attention_mask=attention_mask, \n",
    "        pad_token_id=model.config.eos_token_id, \n",
    "        max_length=150, \n",
    "        num_return_sequences=1, \n",
    "        temperature=0.7, \n",
    "        top_k=5,\n",
    "        do_sample=True\n",
    "    )\n",
    "    generated_text = tokenizer.decode(output[0], skip_special_tokens=True)\n",
    "    return generated_text"
   ]
  },
  {
   "cell_type": "code",
   "execution_count": 125,
   "metadata": {},
   "outputs": [
    {
     "name": "stdout",
     "output_type": "stream",
     "text": [
      "Here is the information we already have:\n",
      "1. Paris is the capital of France and a major European city.\n",
      "2. Berlin, the capital of Germany, is known for its art and nightlife.\n",
      "3. Tokyo is the capital of Japan and a mix of modern and traditional.\n",
      "\n",
      "Answer the following question: What is the capital of France?\n",
      "The answer is simple: Paris.\n",
      "The capital of France is located in the city of Paris.\n",
      "This city has been a part of France since the 17th Century.\n",
      "It was established in 1783 by the French king Louis XIV. It has been a part of France since the 17th Century.\n",
      "France was the first European nation to become a major power in the\n"
     ]
    }
   ],
   "source": [
    "print(generate_recommendations(prompt=create_prompt(query=\"What is the capital of France?\")))\n"
   ]
  },
  {
   "cell_type": "code",
   "execution_count": null,
   "metadata": {},
   "outputs": [],
   "source": []
  }
 ],
 "metadata": {
  "kernelspec": {
   "display_name": "venv",
   "language": "python",
   "name": "python3"
  },
  "language_info": {
   "codemirror_mode": {
    "name": "ipython",
    "version": 3
   },
   "file_extension": ".py",
   "mimetype": "text/x-python",
   "name": "python",
   "nbconvert_exporter": "python",
   "pygments_lexer": "ipython3",
   "version": "3.11.7"
  }
 },
 "nbformat": 4,
 "nbformat_minor": 2
}
